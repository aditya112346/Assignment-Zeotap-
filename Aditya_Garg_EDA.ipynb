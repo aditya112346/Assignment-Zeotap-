{
  "nbformat": 4,
  "nbformat_minor": 0,
  "metadata": {
    "colab": {
      "provenance": [],
      "authorship_tag": "ABX9TyN/KoPUi5FwSFFQPl3fP3vX",
      "include_colab_link": true
    },
    "kernelspec": {
      "name": "python3",
      "display_name": "Python 3"
    },
    "language_info": {
      "name": "python"
    }
  },
  "cells": [
    {
      "cell_type": "markdown",
      "metadata": {
        "id": "view-in-github",
        "colab_type": "text"
      },
      "source": [
        "<a href=\"https://colab.research.google.com/github/aditya112346/Assignment-Zeotap-/blob/main/Aditya_Garg_EDA.ipynb\" target=\"_parent\"><img src=\"https://colab.research.google.com/assets/colab-badge.svg\" alt=\"Open In Colab\"/></a>"
      ]
    },
    {
      "cell_type": "code",
      "execution_count": 4,
      "metadata": {
        "colab": {
          "base_uri": "https://localhost:8080/"
        },
        "id": "MPGymX-215zC",
        "outputId": "1e6b7298-c9ec-4654-c57a-42ac8e40bde1"
      },
      "outputs": [
        {
          "output_type": "stream",
          "name": "stdout",
          "text": [
            "<class 'pandas.core.frame.DataFrame'>\n",
            "RangeIndex: 1000 entries, 0 to 999\n",
            "Data columns (total 7 columns):\n",
            " #   Column           Non-Null Count  Dtype  \n",
            "---  ------           --------------  -----  \n",
            " 0   TransactionID    1000 non-null   object \n",
            " 1   CustomerID       1000 non-null   object \n",
            " 2   ProductID        1000 non-null   object \n",
            " 3   TransactionDate  1000 non-null   object \n",
            " 4   Quantity         1000 non-null   int64  \n",
            " 5   TotalValue       1000 non-null   float64\n",
            " 6   Price            1000 non-null   float64\n",
            "dtypes: float64(2), int64(1), object(4)\n",
            "memory usage: 54.8+ KB\n",
            "<class 'pandas.core.frame.DataFrame'>\n",
            "RangeIndex: 100 entries, 0 to 99\n",
            "Data columns (total 4 columns):\n",
            " #   Column       Non-Null Count  Dtype  \n",
            "---  ------       --------------  -----  \n",
            " 0   ProductID    100 non-null    object \n",
            " 1   ProductName  100 non-null    object \n",
            " 2   Category     100 non-null    object \n",
            " 3   Price        100 non-null    float64\n",
            "dtypes: float64(1), object(3)\n",
            "memory usage: 3.3+ KB\n",
            "<class 'pandas.core.frame.DataFrame'>\n",
            "RangeIndex: 200 entries, 0 to 199\n",
            "Data columns (total 4 columns):\n",
            " #   Column        Non-Null Count  Dtype \n",
            "---  ------        --------------  ----- \n",
            " 0   CustomerID    200 non-null    object\n",
            " 1   CustomerName  200 non-null    object\n",
            " 2   Region        200 non-null    object\n",
            " 3   SignupDate    200 non-null    object\n",
            "dtypes: object(4)\n",
            "memory usage: 6.4+ KB\n"
          ]
        },
        {
          "output_type": "execute_result",
          "data": {
            "text/plain": [
              "(  TransactionID CustomerID ProductID      TransactionDate  Quantity  \\\n",
              " 0        T00001      C0199      P067  2024-08-25 12:38:23         1   \n",
              " 1        T00112      C0146      P067  2024-05-27 22:23:54         1   \n",
              " 2        T00166      C0127      P067  2024-04-25 07:38:55         1   \n",
              " 3        T00272      C0087      P067  2024-03-26 22:55:37         2   \n",
              " 4        T00363      C0070      P067  2024-03-21 15:10:10         3   \n",
              " \n",
              "    TotalValue   Price  \n",
              " 0      300.68  300.68  \n",
              " 1      300.68  300.68  \n",
              " 2      300.68  300.68  \n",
              " 3      601.36  300.68  \n",
              " 4      902.04  300.68  ,\n",
              "   ProductID              ProductName     Category   Price\n",
              " 0      P001     ActiveWear Biography        Books  169.30\n",
              " 1      P002    ActiveWear Smartwatch  Electronics  346.30\n",
              " 2      P003  ComfortLiving Biography        Books   44.12\n",
              " 3      P004            BookWorld Rug   Home Decor   95.69\n",
              " 4      P005          TechPro T-Shirt     Clothing  429.31,\n",
              "   CustomerID        CustomerName         Region  SignupDate\n",
              " 0      C0001    Lawrence Carroll  South America  2022-07-10\n",
              " 1      C0002      Elizabeth Lutz           Asia  2022-02-13\n",
              " 2      C0003      Michael Rivera  South America  2024-03-07\n",
              " 3      C0004  Kathleen Rodriguez  South America  2022-10-09\n",
              " 4      C0005         Laura Weber           Asia  2022-08-15)"
            ]
          },
          "metadata": {},
          "execution_count": 4
        }
      ],
      "source": [
        "import pandas as pd\n",
        "\n",
        "# Load the datasets\n",
        "transactions_path = '/content/Transactions.csv'\n",
        "products_path = '/content/Products.csv'\n",
        "customers_path = '/content/Customers.csv'\n",
        "\n",
        "transactions = pd.read_csv(transactions_path)\n",
        "products = pd.read_csv(products_path)\n",
        "customers = pd.read_csv(customers_path)\n",
        "\n",
        "# Display the first few rows of each dataset\n",
        "transactions_head = transactions.head()\n",
        "products_head = products.head()\n",
        "customers_head = customers.head()\n",
        "\n",
        "transactions_info = transactions.info()\n",
        "products_info = products.info()\n",
        "customers_info = customers.info()\n",
        "\n",
        "transactions_head, products_head, customers_head\n"
      ]
    },
    {
      "cell_type": "markdown",
      "source": [
        "EDA"
      ],
      "metadata": {
        "id": "okDLsJ1o-nHf"
      }
    },
    {
      "cell_type": "code",
      "source": [
        "# Convert date columns to datetime for proper analysis\n",
        "transactions['TransactionDate'] = pd.to_datetime(transactions['TransactionDate'])\n",
        "customers['SignupDate'] = pd.to_datetime(customers['SignupDate'])\n",
        "\n",
        "# Merging datasets for comprehensive analysis\n",
        "merged_data = transactions.merge(products, on='ProductID').merge(customers, on='CustomerID')\n",
        "\n",
        "# Summary statistics\n",
        "transactions_summary = transactions.describe(include='all')\n",
        "products_summary = products.describe(include='all')\n",
        "customers_summary = customers.describe(include='all')\n",
        "\n",
        "# Aggregations for insights\n",
        "# 1. Top 5 products by total sales value\n",
        "top_products = merged_data.groupby('ProductName')['TotalValue'].sum().sort_values(ascending=False).head(5)\n",
        "\n",
        "# 2. Sales distribution by region\n",
        "sales_by_region = merged_data.groupby('Region')['TotalValue'].sum()\n",
        "\n",
        "# 3. Category-wise sales contribution\n",
        "category_sales = merged_data.groupby('Category')['TotalValue'].sum()\n",
        "\n",
        "# 4. Monthly sales trend\n",
        "merged_data['Month'] = merged_data['TransactionDate'].dt.to_period('M')\n",
        "monthly_sales_trend = merged_data.groupby('Month')['TotalValue'].sum()\n",
        "\n",
        "# 5. Top regions by customer count\n",
        "customer_count_by_region = customers['Region'].value_counts()\n",
        "\n",
        "top_products, sales_by_region, category_sales, monthly_sales_trend, customer_count_by_region\n"
      ],
      "metadata": {
        "colab": {
          "base_uri": "https://localhost:8080/"
        },
        "id": "Jy6k2UZG2mL-",
        "outputId": "23a452df-ce89-4030-d1af-48c2d0e31c8f"
      },
      "execution_count": 5,
      "outputs": [
        {
          "output_type": "execute_result",
          "data": {
            "text/plain": [
              "(ProductName\n",
              " ActiveWear Smartwatch    39096.97\n",
              " SoundWave Headphones     25211.64\n",
              " SoundWave Novel          24507.90\n",
              " ActiveWear Jacket        22712.56\n",
              " ActiveWear Rug           22314.43\n",
              " Name: TotalValue, dtype: float64,\n",
              " Region\n",
              " Asia             152074.97\n",
              " Europe           166254.63\n",
              " North America    152313.40\n",
              " South America    219352.56\n",
              " Name: TotalValue, dtype: float64,\n",
              " Category\n",
              " Books          192147.47\n",
              " Clothing       166170.66\n",
              " Electronics    180783.50\n",
              " Home Decor     150893.93\n",
              " Name: TotalValue, dtype: float64,\n",
              " Month\n",
              " 2023-12     3769.52\n",
              " 2024-01    66376.39\n",
              " 2024-02    51459.27\n",
              " 2024-03    47828.73\n",
              " 2024-04    57519.06\n",
              " 2024-05    64527.74\n",
              " 2024-06    48771.18\n",
              " 2024-07    71366.39\n",
              " 2024-08    63436.74\n",
              " 2024-09    70603.75\n",
              " 2024-10    47063.22\n",
              " 2024-11    38224.37\n",
              " 2024-12    59049.20\n",
              " Freq: M, Name: TotalValue, dtype: float64,\n",
              " Region\n",
              " South America    59\n",
              " Europe           50\n",
              " North America    46\n",
              " Asia             45\n",
              " Name: count, dtype: int64)"
            ]
          },
          "metadata": {},
          "execution_count": 5
        }
      ]
    }
  ]
}
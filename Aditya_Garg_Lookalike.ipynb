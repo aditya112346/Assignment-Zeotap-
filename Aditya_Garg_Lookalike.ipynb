{
  "nbformat": 4,
  "nbformat_minor": 0,
  "metadata": {
    "colab": {
      "provenance": [],
      "authorship_tag": "ABX9TyPNXlXc99arC6lVC2gFLKqm",
      "include_colab_link": true
    },
    "kernelspec": {
      "name": "python3",
      "display_name": "Python 3"
    },
    "language_info": {
      "name": "python"
    }
  },
  "cells": [
    {
      "cell_type": "markdown",
      "metadata": {
        "id": "view-in-github",
        "colab_type": "text"
      },
      "source": [
        "<a href=\"https://colab.research.google.com/github/aditya112346/Assignment-Zeotap-/blob/main/Aditya_Garg_Lookalike.ipynb\" target=\"_parent\"><img src=\"https://colab.research.google.com/assets/colab-badge.svg\" alt=\"Open In Colab\"/></a>"
      ]
    },
    {
      "cell_type": "code",
      "execution_count": 14,
      "metadata": {
        "colab": {
          "base_uri": "https://localhost:8080/",
          "height": 36
        },
        "id": "wgi9hyIfAWYp",
        "outputId": "5d2fc501-e3b1-49a9-f7ce-5fd05116bdbe"
      },
      "outputs": [
        {
          "output_type": "execute_result",
          "data": {
            "text/plain": [
              "'/content/Lookalike.csv'"
            ],
            "application/vnd.google.colaboratory.intrinsic+json": {
              "type": "string"
            }
          },
          "metadata": {},
          "execution_count": 14
        }
      ],
      "source": [
        "from sklearn.preprocessing import StandardScaler\n",
        "from sklearn.metrics.pairwise import cosine_similarity\n",
        "import numpy as np\n",
        "\n",
        "# Prepare customer and transaction data for modeling\n",
        "# Aggregating purchase history by customer and product categories\n",
        "merged_data = transactions.merge(products, on='ProductID').merge(customers, on='CustomerID')\n",
        "category_sales_per_customer = merged_data.groupby(['CustomerID', 'Category'])['TotalValue'].sum().unstack(fill_value=0)\n",
        "\n",
        "# Merge with customer details\n",
        "customer_data = customers.set_index('CustomerID').join(category_sales_per_customer, how='left').fillna(0)\n",
        "\n",
        "# Scale the data for similarity calculations\n",
        "scaler = StandardScaler()\n",
        "customer_data_scaled = scaler.fit_transform(customer_data.iloc[:, 3:])\n",
        "\n",
        "# Calculate cosine similarity between customers\n",
        "similarity_matrix = cosine_similarity(customer_data_scaled)\n",
        "similarity_df = pd.DataFrame(similarity_matrix, index=customer_data.index, columns=customer_data.index)\n",
        "\n",
        "# Generate lookalike recommendations for the first 20 customers\n",
        "lookalike_map = {}\n",
        "for customer_id in customer_data.index[:20]:\n",
        "    similar_customers = similarity_df[customer_id].sort_values(ascending=False).iloc[1:4]\n",
        "    lookalike_map[customer_id] = list(zip(similar_customers.index, similar_customers.values))\n",
        "\n",
        "# Convert to Lookalike.csv format\n",
        "lookalike_df = pd.DataFrame({\n",
        "    'CustomerID': [customer for customer, recs in lookalike_map.items() for _ in recs],\n",
        "    'LookalikeID': [rec[0] for recs in lookalike_map.values() for rec in recs],\n",
        "    'Score': [rec[1] for recs in lookalike_map.values() for rec in recs]\n",
        "})\n",
        "\n",
        "# Save the result\n",
        "lookalike_csv_path = '/content/Lookalike.csv'\n",
        "lookalike_df.to_csv(lookalike_csv_path, index=False)\n",
        "\n",
        "lookalike_csv_path"
      ]
    },
    {
      "cell_type": "code",
      "source": [],
      "metadata": {
        "id": "CYyMe5szFmi3"
      },
      "execution_count": null,
      "outputs": []
    }
  ]
}